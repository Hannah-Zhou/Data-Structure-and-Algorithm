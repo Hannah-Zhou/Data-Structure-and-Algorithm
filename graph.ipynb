{
 "cells": [
  {
   "cell_type": "markdown",
   "metadata": {},
   "source": [
    "# Dijkstra算法"
   ]
  },
  {
   "cell_type": "code",
   "execution_count": 1,
   "metadata": {},
   "outputs": [],
   "source": [
    "from graph_examples import graph_from_edgelist"
   ]
  },
  {
   "cell_type": "code",
   "execution_count": 2,
   "metadata": {},
   "outputs": [],
   "source": [
    "def graph8():\n",
    "    edge_list = (\n",
    "        ('a', 'b', 7),\n",
    "        ('a', 'd', 5),\n",
    "        ('b', 'c', 8),\n",
    "        ('b', 'd', 9),\n",
    "        ('b', 'e', 7),\n",
    "        ('c', 'e', 5),\n",
    "        ('d', 'e', 15),\n",
    "        ('d', 'f', 6),\n",
    "        ('e', 'f', 8),\n",
    "        ('e', 'g', 9),\n",
    "        ('f', 'g', 11)\n",
    "    )\n",
    "    return graph_from_edgelist(edge_list)"
   ]
  },
  {
   "cell_type": "code",
   "execution_count": 4,
   "metadata": {},
   "outputs": [
    {
     "name": "stdout",
     "output_type": "stream",
     "text": [
      "7, 11\n"
     ]
    }
   ],
   "source": [
    "g = graph8()\n",
    "print(g)"
   ]
  },
  {
   "cell_type": "code",
   "execution_count": 5,
   "metadata": {},
   "outputs": [],
   "source": [
    "def find_vertex(str):\n",
    "    for v in g.vertices():\n",
    "        if v.element() == str:\n",
    "            return v"
   ]
  },
  {
   "cell_type": "code",
   "execution_count": 6,
   "metadata": {},
   "outputs": [
    {
     "name": "stdout",
     "output_type": "stream",
     "text": [
      "a\n"
     ]
    }
   ],
   "source": [
    "src = find_vertex('a')\n",
    "print(src)"
   ]
  },
  {
   "cell_type": "code",
   "execution_count": 7,
   "metadata": {},
   "outputs": [],
   "source": [
    "from shortest_paths import shortest_path_lengths, shortest_path_tree"
   ]
  },
  {
   "cell_type": "code",
   "execution_count": 8,
   "metadata": {},
   "outputs": [
    {
     "name": "stdout",
     "output_type": "stream",
     "text": [
      "{a: 0, d: 5, b: 7, f: 11, e: 14, c: 15, g: 22}\n"
     ]
    }
   ],
   "source": [
    "cloud = shortest_path_lengths(g, src)\n",
    "print(cloud)"
   ]
  },
  {
   "cell_type": "code",
   "execution_count": 9,
   "metadata": {},
   "outputs": [
    {
     "name": "stdout",
     "output_type": "stream",
     "text": [
      "{d: (a,d,5), b: (a,b,7), f: (d,f,6), e: (b,e,7), c: (b,c,8), g: (f,g,11)}\n"
     ]
    }
   ],
   "source": [
    "tree = shortest_path_tree(g, src, cloud)\n",
    "print(tree)"
   ]
  }
 ],
 "metadata": {
  "kernelspec": {
   "display_name": "Python 3",
   "language": "python",
   "name": "python3"
  },
  "language_info": {
   "codemirror_mode": {
    "name": "ipython",
    "version": 3
   },
   "file_extension": ".py",
   "mimetype": "text/x-python",
   "name": "python",
   "nbconvert_exporter": "python",
   "pygments_lexer": "ipython3",
   "version": "3.7.1"
  }
 },
 "nbformat": 4,
 "nbformat_minor": 2
}
