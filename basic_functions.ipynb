{
 "cells": [
  {
   "cell_type": "markdown",
   "metadata": {},
   "source": [
    "# 数据结构基本函数\n"
   ]
  },
  {
   "cell_type": "markdown",
   "metadata": {},
   "source": [
    "* 编写函数`is_multiple(n, m)`，接受两个整数，若`n`能被`m`整除，返回`True`，否则返回`False`。"
   ]
  },
  {
   "cell_type": "code",
   "execution_count": 35,
   "metadata": {},
   "outputs": [],
   "source": [
    "def is_multiple(n,m):\n",
    "    if n % m == 0:\n",
    "        return True\n",
    "    if not isinstance(n,int) and isinstance(m,int):\n",
    "        raise ValueError(\"Wrong type!\") #设置报错机制\n",
    "    else:\n",
    "        return False"
   ]
  },
  {
   "cell_type": "markdown",
   "metadata": {},
   "source": [
    "* 编写函数`is_even(k)`，接受一个整数，若`k`为偶数，返回`True`，否则返回`False`。不能使用乘法、除法和求余。"
   ]
  },
  {
   "cell_type": "code",
   "execution_count": 36,
   "metadata": {},
   "outputs": [],
   "source": [
    "def is_even(k):\n",
    "    if k % 2 == 0:\n",
    "        return True\n",
    "     if not isinstance(k,int):\n",
    "        raise ValueError(\"Wrong type!\")  #设置报错机制\n",
    "    else:\n",
    "        return False"
   ]
  },
  {
   "cell_type": "markdown",
   "metadata": {},
   "source": [
    "* 编写函数`minmax(data)`，接受一个数列，返回其最小值和最大值。不能使用内置函数`min`和`max`。"
   ]
  },
  {
   "cell_type": "code",
   "execution_count": 6,
   "metadata": {},
   "outputs": [],
   "source": [
    "def minmax(data):\n",
    "    mini = data[0]\n",
    "    maxi = data[0]\n",
    "    for i in range(1,len(data)):\n",
    "            if data[i] < mini:\n",
    "            mini = data[i]\n",
    "            if data[i] > maxi:\n",
    "            maxi = data[i]"
   ]
  },
  {
   "cell_type": "markdown",
   "metadata": {},
   "source": [
    "* 编写函数`sum_of_squares(n)`，接受一个正整数`n`，返回所有小于`n`的正整数之平方和。"
   ]
  },
  {
   "cell_type": "code",
   "execution_count": 37,
   "metadata": {},
   "outputs": [],
   "source": [
    "def sum_of_squares(n):\n",
    "    if n == 0:\n",
    "        return 0\n",
    "    temp = n * n  #临时变量\n",
    "    return temp + sum_of_squares(n-1)"
   ]
  },
  {
   "cell_type": "markdown",
   "metadata": {},
   "source": [
    "* 编写函数`sum_of_odd_squares(n)`，接受一个正整数`n`，返回所有小于`n`的正奇数之平方和。"
   ]
  },
  {
   "cell_type": "code",
   "execution_count": 7,
   "metadata": {},
   "outputs": [],
   "source": [
    "def sum_of_odd_squares(n):\n",
    "    if n == 1:\n",
    "        return 1\n",
    "    k = n - n % 2 + 1\n",
    "    temp = k * k\n",
    "    return temp + sum_of_odd_squares(k-2)"
   ]
  },
  {
   "cell_type": "markdown",
   "metadata": {},
   "source": [
    "* 使用`range`函数，生成列表`[50, 60, 70, 80]`。"
   ]
  },
  {
   "cell_type": "code",
   "execution_count": 38,
   "metadata": {},
   "outputs": [
    {
     "name": "stdout",
     "output_type": "stream",
     "text": [
      "[50, 60, 70, 80]\n"
     ]
    }
   ],
   "source": [
    "L = range(50,90,10)\n",
    "print(list(L))"
   ]
  },
  {
   "cell_type": "markdown",
   "metadata": {},
   "source": [
    "* 使用`range`数，生成列表`[8, 6, 4, 2, 0, -2, -4, -6, -8]`。"
   ]
  },
  {
   "cell_type": "code",
   "execution_count": 15,
   "metadata": {},
   "outputs": [
    {
     "name": "stdout",
     "output_type": "stream",
     "text": [
      "range(8, -10, -2)\n"
     ]
    }
   ],
   "source": [
    "L = range(8,-10,-2)\n",
    "print(L) #产生range数\n",
    "#print(list(L))"
   ]
  },
  {
   "cell_type": "markdown",
   "metadata": {},
   "source": [
    "* 生成列表`[1, 2, 4, 8, 16, 32, 64, 128, 256]`"
   ]
  },
  {
   "cell_type": "code",
   "execution_count": 16,
   "metadata": {},
   "outputs": [
    {
     "name": "stdout",
     "output_type": "stream",
     "text": [
      "[1, 2, 4, 8, 16, 32, 64, 128, 256]\n"
     ]
    }
   ],
   "source": [
    "l = []\n",
    "for k in range(9):\n",
    "    l.append(2 ** k)\n",
    "print(l)"
   ]
  },
  {
   "cell_type": "markdown",
   "metadata": {},
   "source": [
    "* 生成列表`[0, 2, 6, 12, 20, 30, 42, 56, 72, 90]`"
   ]
  },
  {
   "cell_type": "code",
   "execution_count": 4,
   "metadata": {},
   "outputs": [
    {
     "name": "stdout",
     "output_type": "stream",
     "text": [
      "[0, 2, 4, 6, 8, 10, 12, 14, 16, 18]\n",
      "[0, 0, 2, 6, 12, 20, 30, 42, 56, 72, 90]\n"
     ]
    }
   ],
   "source": [
    "l = []\n",
    "L = []\n",
    "for k in range(10):\n",
    "    l.append(2 * k)\n",
    "sum=0\n",
    "print(l)\n",
    "for j in l:\n",
    "    L.append(sum)\n",
    "    sum += j\n",
    "L.append(sum)\n",
    "print(L)"
   ]
  },
  {
   "cell_type": "markdown",
   "metadata": {},
   "source": [
    "* 生成字符串列表`['a', 'b', ..., 'z']`"
   ]
  },
  {
   "cell_type": "code",
   "execution_count": 8,
   "metadata": {},
   "outputs": [
    {
     "name": "stdout",
     "output_type": "stream",
     "text": [
      "['b', 'c', 'd', 'e', 'f', 'g', 'h', 'i', 'j', 'k', 'l', 'm', 'n', 'o', 'p', 'q', 'r', 's', 't', 'u', 'v', 'w', 'x', 'y', 'z', '{']\n"
     ]
    }
   ],
   "source": [
    "j = []\n",
    "x = 'a' #设置x = 'b'则输出结果为:['b', 'c', 'd', 'e', 'f', 'g', 'h', 'i', 'j', 'k', 'l', 'm', 'n', 'o', 'p', 'q', 'r', 's', 't', 'u', 'v', 'w', 'x', 'y', 'z', '{']\n",
    "for i in range(26):\n",
    "    h = ord(x) + i\n",
    "    j.append(chr(h))\n",
    "print(j)"
   ]
  },
  {
   "cell_type": "markdown",
   "metadata": {},
   "source": [
    "* Python的`random`模块中包含函数`choice(data)`，它从一个非空序列中返回一个随机元素。 如"
   ]
  },
  {
   "cell_type": "code",
   "execution_count": 20,
   "metadata": {},
   "outputs": [
    {
     "name": "stdout",
     "output_type": "stream",
     "text": [
      "3\n"
     ]
    }
   ],
   "source": [
    "import random  \n",
    "data = [1, 2, 3, 4]\n",
    "print(random.choice(data))"
   ]
  },
  {
   "cell_type": "markdown",
   "metadata": {},
   "source": [
    "`random`模块中有个更基础的函数`randrange`，其参数同`range`，返回给定范围内的一个随机数。如"
   ]
  },
  {
   "cell_type": "code",
   "execution_count": 21,
   "metadata": {},
   "outputs": [
    {
     "name": "stdout",
     "output_type": "stream",
     "text": [
      "9\n"
     ]
    }
   ],
   "source": [
    "print(random.randrange(10))"
   ]
  },
  {
   "cell_type": "markdown",
   "metadata": {},
   "source": [
    "仅使用`randrange()`，自定义`choice(data)`。"
   ]
  },
  {
   "cell_type": "markdown",
   "metadata": {},
   "source": [
    "* `random` 模块中有一个函数`shuffle(data)`，它接受一个序列，对其中的元素随机排列。如"
   ]
  },
  {
   "cell_type": "code",
   "execution_count": 22,
   "metadata": {
    "scrolled": true
   },
   "outputs": [
    {
     "name": "stdout",
     "output_type": "stream",
     "text": [
      "[1, 5, 3, 2, 4]\n"
     ]
    }
   ],
   "source": [
    "data = [1, 2, 3, 4, 5]\n",
    "random.shuffle(data)\n",
    "print(data)"
   ]
  },
  {
   "cell_type": "markdown",
   "metadata": {},
   "source": [
    "`random`模块中有一个更基础的函数`randint(a, b)`，它返回`[a, b]`中的一个随机数。"
   ]
  },
  {
   "cell_type": "code",
   "execution_count": 23,
   "metadata": {},
   "outputs": [
    {
     "name": "stdout",
     "output_type": "stream",
     "text": [
      "2\n"
     ]
    }
   ],
   "source": [
    "print(random.randint(2, 4))"
   ]
  },
  {
   "cell_type": "markdown",
   "metadata": {},
   "source": [
    "仅使用`randint()`，自定义`shuffle(data)`。"
   ]
  },
  {
   "cell_type": "code",
   "execution_count": 32,
   "metadata": {},
   "outputs": [
    {
     "data": {
      "text/plain": [
       "[1, 6, 5, 2, 7]"
      ]
     },
     "execution_count": 32,
     "metadata": {},
     "output_type": "execute_result"
    }
   ],
   "source": [
    "def my_shuffle(data):\n",
    "    L = []\n",
    "    new = []\n",
    "    while len(L) < len(data):\n",
    "        n=random.randint(0,len(data)-1)\n",
    "        if n in L:\n",
    "            continue   \n",
    "        L.append(n)\n",
    "    for j in L:\n",
    "        new.append(data[j])\n",
    "    return new\n",
    "my_shuffle([1,2,5,6,7])"
   ]
  },
  {
   "cell_type": "markdown",
   "metadata": {},
   "source": [
    "* 编写函数`my_reverse(data)`，实现序列`data`的翻转。"
   ]
  },
  {
   "cell_type": "code",
   "execution_count": 27,
   "metadata": {},
   "outputs": [
    {
     "name": "stdout",
     "output_type": "stream",
     "text": [
      "[4, 3, 2, 1]\n"
     ]
    }
   ],
   "source": [
    "def my_reverse(data):\n",
    "    L = data[len(data)-1: :-1]\n",
    "    return L\n",
    "print(my_reverse([1,2,3,4]))"
   ]
  },
  {
   "cell_type": "markdown",
   "metadata": {},
   "source": [
    "* 编写函数`odd_pair(data)`，它接受整数序列，若序列中存在一对不同的数，且其乘积是奇数，则返回`True`，否则返回`False`。"
   ]
  },
  {
   "cell_type": "code",
   "execution_count": 31,
   "metadata": {},
   "outputs": [],
   "source": [
    "def odd_pair(data):\n",
    "    for i in data:\n",
    "        for j in data:\n",
    "            if i != j:\n",
    "                if (i * j) % 2 == 1: #判别\n",
    "                    return True  \n",
    "    return False            "
   ]
  },
  {
   "cell_type": "markdown",
   "metadata": {},
   "source": [
    "* 编写函数`is_distinct(data)`，它接受一个数列，若其中的数字两两互不相同，返回`True`，否则返回`False`。"
   ]
  },
  {
   "cell_type": "code",
   "execution_count": 30,
   "metadata": {},
   "outputs": [],
   "source": [
    "def is_distinct(data):\n",
    "    s = set(data)\n",
    "    if len(data) == len(s):\n",
    "        return True\n",
    "    else:\n",
    "        return False"
   ]
  }
 ],
 "metadata": {
  "kernelspec": {
   "display_name": "Python 3",
   "language": "python",
   "name": "python3"
  },
  "language_info": {
   "codemirror_mode": {
    "name": "ipython",
    "version": 3
   },
   "file_extension": ".py",
   "mimetype": "text/x-python",
   "name": "python",
   "nbconvert_exporter": "python",
   "pygments_lexer": "ipython3",
   "version": "3.7.0"
  }
 },
 "nbformat": 4,
 "nbformat_minor": 2
}
