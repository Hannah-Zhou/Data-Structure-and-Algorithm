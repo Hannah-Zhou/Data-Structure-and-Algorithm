{
 "cells": [
  {
   "cell_type": "markdown",
   "metadata": {},
   "source": [
    "# 优先队列基类"
   ]
  },
  {
   "cell_type": "code",
   "execution_count": 1,
   "metadata": {},
   "outputs": [],
   "source": [
    "from exceptions import Empty"
   ]
  },
  {
   "cell_type": "code",
   "execution_count": 2,
   "metadata": {},
   "outputs": [],
   "source": [
    "class PriorityQueueBase():\n",
    "    \"\"\"Abstract base class for a priority queue.\"\"\"\n",
    "\n",
    "    # ------------------------------ nested _Item class ------------------------------\n",
    "    class _Item():\n",
    "        \"\"\"Lightweight composite to store priority queue items.\"\"\"\n",
    "        __slots__ = '_key', '_value'\n",
    "\n",
    "        def __init__(self, k, v):\n",
    "            self._key = k\n",
    "            self._value = v\n",
    "\n",
    "        def __lt__(self, other):\n",
    "            return self._key < other._key\n",
    "\n",
    "        def __repr__(self):\n",
    "            return f'({self._key}, {self._value})'\n",
    "\n",
    "    # ------------------------------ public behaviors ------------------------------\n",
    "    def is_empty(self):\n",
    "        \"\"\"Return True if the priority queue is empty.\"\"\"\n",
    "        return len(self) == 0\n",
    "\n",
    "    def __len__(self):\n",
    "        \"\"\"Return the number of items in the priority queue.\"\"\"\n",
    "        raise NotImplementedError('must be implemented by subclass')\n",
    "\n",
    "    def add(self, key, value):\n",
    "        \"\"\"Add a key-value pair.\"\"\"\n",
    "        raise NotImplementedError('must be implemented by subclass')\n",
    "\n",
    "    def min(self):\n",
    "        \"\"\"Return but do not remove (k,v) with minimum key.\n",
    "        Raise Empty exception if empty.\n",
    "        \"\"\"\n",
    "        raise NotImplementedError('must be implemented by subclass')\n",
    "\n",
    "    def remove_min(self):\n",
    "        \"\"\"Remove and return (k,v) with minimum key.\n",
    "        Raise Empty exception if empty.\n",
    "        \"\"\"\n",
    "        raise NotImplementedError('must be implemented by subclass')\n"
   ]
  },
  {
   "cell_type": "markdown",
   "metadata": {},
   "source": [
    "# 基于无序列表的优先队列"
   ]
  },
  {
   "cell_type": "code",
   "execution_count": 3,
   "metadata": {},
   "outputs": [],
   "source": [
    "from positional_list import PositionalList"
   ]
  },
  {
   "cell_type": "code",
   "execution_count": 4,
   "metadata": {},
   "outputs": [],
   "source": [
    "class UnsortedPriorityQueue(PriorityQueueBase): \n",
    "    \"\"\"A min-oriented priority queue implemented with an unsorted list.\"\"\"\n",
    "\n",
    "    # ----------------------------- nonpublic behavior -----------------------------\n",
    "    def _find_min(self):\n",
    "        \"\"\"Return Position of item with minimum key.\"\"\"\n",
    "        if self.is_empty():\n",
    "            raise Empty('Priority queue is empty')\n",
    "        small = self._data.first()\n",
    "        walk = self._data.after(small)\n",
    "        while walk is not None:\n",
    "            if walk.element() < small.element():\n",
    "                small = walk\n",
    "            walk = self._data.after(walk)\n",
    "        return small\n",
    "\n",
    "    # ------------------------------ public behaviors ------------------------------\n",
    "    def __init__(self):\n",
    "        \"\"\"Create a new empty Priority Queue.\"\"\"\n",
    "        self._data = PositionalList()\n",
    "\n",
    "    def __len__(self):\n",
    "        \"\"\"Return the number of items in the priority queue.\"\"\"\n",
    "        return len(self._data)\n",
    "\n",
    "    def add(self, key, value):\n",
    "        \"\"\"Add a key-value pair.\"\"\"\n",
    "        self._data.add_last(self._Item(key, value))\n",
    "\n",
    "    def min(self):\n",
    "        \"\"\"Return but do not remove (k,v) with minimum key.\n",
    "        Raise Empty exception if empty.\n",
    "        \"\"\"\n",
    "        p = self._find_min()\n",
    "        item = p.element()\n",
    "        return (item._key, item._value)\n",
    "\n",
    "    def remove_min(self):\n",
    "        \"\"\"Remove and return (k,v) with minimum key.\n",
    "        Raise Empty exception if empty.\n",
    "        \"\"\"\n",
    "        p = self._find_min()\n",
    "        item = self._data.delete(p)\n",
    "        return (item._key, item._value)\n",
    "    \n",
    "    def __repr__(self):\n",
    "        return f'{self._data}'\n",
    "    \n",
    "    def __str__(self):\n",
    "        return self.__repr__()"
   ]
  },
  {
   "cell_type": "code",
   "execution_count": 5,
   "metadata": {},
   "outputs": [
    {
     "name": "stdout",
     "output_type": "stream",
     "text": [
      "[(5, A), (9, C), (3, B), (7, D)]\n",
      "(3, 'B')\n",
      "(3, 'B')\n",
      "(5, 'A')\n",
      "[(9, C), (7, D)]\n",
      "(7, 'D')\n",
      "(9, 'C')\n",
      "0\n"
     ]
    }
   ],
   "source": [
    "P = UnsortedPriorityQueue()\n",
    "P.add(5, 'A')\n",
    "P.add(9, 'C')\n",
    "P.add(3, 'B')\n",
    "P.add(7, 'D')\n",
    "print(P)\n",
    "print(P.min())\n",
    "print(P.remove_min())\n",
    "print(P.remove_min())\n",
    "print(P)\n",
    "print(P.remove_min())\n",
    "print(P.remove_min())\n",
    "print(len(P))"
   ]
  },
  {
   "cell_type": "markdown",
   "metadata": {},
   "source": [
    "# 基于有序列表的优先队列"
   ]
  },
  {
   "cell_type": "code",
   "execution_count": 6,
   "metadata": {},
   "outputs": [],
   "source": [
    "class SortedPriorityQueue(PriorityQueueBase):  # base class defines _Item\n",
    "    \"\"\"A min-oriented priority queue implemented with a sorted list.\"\"\"\n",
    "\n",
    "    # ------------------------------ public behaviors ------------------------------\n",
    "    def __init__(self):\n",
    "        \"\"\"Create a new empty Priority Queue.\"\"\"\n",
    "        self._data = PositionalList()\n",
    "\n",
    "    def __len__(self):\n",
    "        \"\"\"Return the number of items in the priority queue.\"\"\"\n",
    "        return len(self._data)\n",
    "\n",
    "    def add(self, key, value):\n",
    "        \"\"\"Add a key-value pair.\"\"\"\n",
    "        new = self._Item(key, value)  # make new item instance\n",
    "        walk = self._data.last()  # walk backward looking for smaller key\n",
    "        while walk is not None and new < walk.element():\n",
    "            walk = self._data.before(walk)\n",
    "        if walk is None:\n",
    "            self._data.add_first(new)  # new key is smallest\n",
    "        else:\n",
    "            self._data.add_after(walk, new)  # new goes after walk\n",
    "\n",
    "    def min(self):\n",
    "        \"\"\"Return but do not remove (k,v) with minimum key.\n",
    "        Raise Empty exception if empty.\n",
    "        \"\"\"\n",
    "        if self.is_empty():\n",
    "            raise Empty('Priority queue is empty.')\n",
    "        p = self._data.first()\n",
    "        item = p.element()\n",
    "        return (item._key, item._value)\n",
    "\n",
    "    def remove_min(self):\n",
    "        \"\"\"Remove and return (k,v) with minimum key.\n",
    "        Raise Empty exception if empty.\n",
    "        \"\"\"\n",
    "        if self.is_empty():\n",
    "            raise Empty('Priority queue is empty.')\n",
    "        item = self._data.delete(self._data.first())\n",
    "        return (item._key, item._value)\n",
    "\n",
    "    def __repr__(self):\n",
    "        return f'{self._data}'\n",
    "    \n",
    "    def __str__(self):\n",
    "        return self.__repr__()"
   ]
  },
  {
   "cell_type": "code",
   "execution_count": 7,
   "metadata": {},
   "outputs": [
    {
     "name": "stdout",
     "output_type": "stream",
     "text": [
      "[(3, B), (5, A), (7, D), (9, C)]\n",
      "(3, 'B')\n",
      "(3, 'B')\n",
      "(5, 'A')\n",
      "[(7, D), (9, C)]\n",
      "(7, 'D')\n",
      "(9, 'C')\n",
      "0\n"
     ]
    }
   ],
   "source": [
    "P = SortedPriorityQueue()\n",
    "P.add(5, 'A')\n",
    "P.add(9, 'C')\n",
    "P.add(3, 'B')\n",
    "P.add(7, 'D')\n",
    "print(P)\n",
    "print(P.min())\n",
    "print(P.remove_min())\n",
    "print(P.remove_min())\n",
    "print(P)\n",
    "print(P.remove_min())\n",
    "print(P.remove_min())\n",
    "print(len(P))"
   ]
  },
  {
   "cell_type": "markdown",
   "metadata": {},
   "source": [
    "# 基于堆的优先列表"
   ]
  },
  {
   "cell_type": "code",
   "execution_count": 8,
   "metadata": {},
   "outputs": [],
   "source": [
    "class HeapPriorityQueue(PriorityQueueBase):  # base class defines _Item\n",
    "    \"\"\"A min-oriented priority queue implemented with a binary heap.\"\"\"\n",
    "\n",
    "    # -------------- public behaviors ----------\n",
    "    def __init__(self):\n",
    "        \"\"\"Create a new empty Priority Queue.\"\"\"\n",
    "        self._data = []\n",
    "\n",
    "    def __len__(self):\n",
    "        \"\"\"Return the number of items in the priority queue.\"\"\"\n",
    "        return len(self._data)\n",
    "\n",
    "    # -------------- nonpublic behaviors ---------\n",
    "    def _parent(self, j):\n",
    "        return (j-1) // 2\n",
    "\n",
    "    def _left(self, j):\n",
    "        return 2*j + 1\n",
    "\n",
    "    def _right(self, j):\n",
    "        return 2*j + 2\n",
    "\n",
    "    def _has_left(self, j):\n",
    "        return self._left(j) < len(self._data)  # index beyond end of list?\n",
    "\n",
    "    def _has_right(self, j):\n",
    "        return self._right(j) < len(self._data)  # index beyond end of list?\n",
    "\n",
    "    def _swap(self, i, j):\n",
    "        \"\"\"Swap the elements at indices i and j of array.\"\"\"\n",
    "        self._data[i], self._data[j] = self._data[j], self._data[i]\n",
    "\n",
    "    def _upheap(self, j):\n",
    "        parent = self._parent(j)\n",
    "        if j > 0 and self._data[j] < self._data[parent]:\n",
    "            self._swap(j, parent)\n",
    "            self._upheap(parent)  # recur at position of parent\n",
    "\n",
    "    def _downheap(self, j):\n",
    "        if self._has_left(j):\n",
    "            left = self._left(j)\n",
    "            small_child = left  # although right may be smaller\n",
    "            if self._has_right(j):\n",
    "                right = self._right(j)\n",
    "                if self._data[right] < self._data[left]:\n",
    "                    small_child = right\n",
    "            if self._data[small_child] < self._data[j]:\n",
    "                self._swap(j, small_child)\n",
    "                # recur at position of small child\n",
    "                self._downheap(small_child)\n",
    "\n",
    "    # ----------- public behaviors ----------------\n",
    "    def add(self, key, value):\n",
    "        \"\"\"Add a key-value pair to the priority queue.\"\"\"\n",
    "        self._data.append(self._Item(key, value))\n",
    "        # upheap newly added position\n",
    "        self._upheap(len(self._data) - 1)\n",
    "\n",
    "    def min(self):\n",
    "        \"\"\"Return but do not remove (k,v) with minimum key.\n",
    "        Raise Empty exception if empty.\n",
    "        \"\"\"\n",
    "        if self.is_empty():\n",
    "            raise Empty('Priority queue is empty.')\n",
    "        item = self._data[0]\n",
    "        return (item._key, item._value)\n",
    "\n",
    "    def remove_min(self):\n",
    "        \"\"\"Remove and return (k,v) with minimum key.\n",
    "        Raise Empty exception if empty.\n",
    "        \"\"\"\n",
    "        if self.is_empty():\n",
    "            raise Empty('Priority queue is empty.')\n",
    "        # put minimum item at the end\n",
    "        self._swap(0, len(self._data) - 1)\n",
    "        item = self._data.pop()   # and remove it from the list\n",
    "        self._downheap(0)         # then fix new root\n",
    "        return (item._key, item._value)"
   ]
  },
  {
   "cell_type": "code",
   "execution_count": 9,
   "metadata": {},
   "outputs": [
    {
     "name": "stdout",
     "output_type": "stream",
     "text": [
      "[(4, C), (5, A), (6, Z), (15, K), (9, F), (7, Q), (20, B), (16, X), (25, J), (14, E), (12, H), (11, S), (13, W)]\n",
      "[(2, T), (5, A), (4, C), (15, K), (9, F), (7, Q), (6, Z), (16, X), (25, J), (14, E), (12, H), (11, S), (13, W), (20, B)]\n",
      "[(4, C), (5, A), (6, Z), (15, K), (9, F), (7, Q), (20, B), (16, X), (25, J), (14, E), (12, H), (11, S), (13, W)]\n"
     ]
    }
   ],
   "source": [
    "P = HeapPriorityQueue()\n",
    "P.add(4, 'C'), P.add(5, 'A'), P.add(6, 'Z')\n",
    "P.add(15, 'K'), P.add(9, 'F'), P.add(7, 'Q')\n",
    "P.add(20, 'B'), P.add(16, 'X'), P.add(25, 'J')\n",
    "P.add(14, 'E'), P.add(12, 'H'), P.add(11, 'S')\n",
    "P.add(13, 'W')\n",
    "print(P._data)\n",
    "\n",
    "P.add(2, 'T')\n",
    "print(P._data)\n",
    "\n",
    "P.remove_min()\n",
    "print(P._data)"
   ]
  },
  {
   "cell_type": "markdown",
   "metadata": {},
   "source": [
    "# 选择排序 "
   ]
  },
  {
   "cell_type": "code",
   "execution_count": 10,
   "metadata": {},
   "outputs": [],
   "source": [
    "def selection_sort(C):\n",
    "    \"\"\"implementation of selection sort\"\"\"\n",
    "    n = len(C)\n",
    "    P = UnsortedPriorityQueue()\n",
    "    for j in range(n):\n",
    "        elem = C.delete(C.first())\n",
    "        P.add(elem, elem)\n",
    "    for j in range(n):\n",
    "        (k, v) = P.remove_min()\n",
    "        C.add_last(v)"
   ]
  },
  {
   "cell_type": "markdown",
   "metadata": {},
   "source": [
    "# 插入排序 "
   ]
  },
  {
   "cell_type": "code",
   "execution_count": 11,
   "metadata": {},
   "outputs": [],
   "source": [
    "def insertion_sort(C):\n",
    "    \"\"\"implementation of selection sort\"\"\"\n",
    "    n = len(C)\n",
    "    P = SortedPriorityQueue()\n",
    "    for j in range(n):\n",
    "        elem = C.delete(C.first())\n",
    "        P.add(elem, elem)\n",
    "    for j in range(n):\n",
    "        (k, v) = P.remove_min()\n",
    "        C.add_last(v)"
   ]
  },
  {
   "cell_type": "markdown",
   "metadata": {},
   "source": [
    "# 堆排序"
   ]
  },
  {
   "cell_type": "code",
   "execution_count": 12,
   "metadata": {},
   "outputs": [],
   "source": [
    "def heap_sort(C):\n",
    "    \"\"\"implementation of selection sort\"\"\"\n",
    "    n = len(C)\n",
    "    P = HeapPriorityQueue()\n",
    "    for j in range(n):\n",
    "        elem = C.delete(C.first())\n",
    "        P.add(elem, elem)\n",
    "    for j in range(n):\n",
    "        (k, v) = P.remove_min()\n",
    "        C.add_last(v)"
   ]
  },
  {
   "cell_type": "code",
   "execution_count": 25,
   "metadata": {},
   "outputs": [],
   "source": [
    "import random\n",
    "import time\n",
    "n = 10000\n",
    "L = random.sample(range(1,n+1), n)\n",
    "C = PositionalList()\n",
    "for e in L:\n",
    "    C.add_last(e)"
   ]
  },
  {
   "cell_type": "code",
   "execution_count": 26,
   "metadata": {},
   "outputs": [
    {
     "name": "stdout",
     "output_type": "stream",
     "text": [
      "ellapsed time of selection sort is 62.3137264251709\n"
     ]
    }
   ],
   "source": [
    "start = time.time()\n",
    "selection_sort(C)\n",
    "print(f'ellapsed time of selection sort is {time.time() - start}')"
   ]
  },
  {
   "cell_type": "code",
   "execution_count": 28,
   "metadata": {},
   "outputs": [],
   "source": [
    "C = PositionalList()\n",
    "for e in L:\n",
    "    C.add_last(e)"
   ]
  },
  {
   "cell_type": "code",
   "execution_count": 29,
   "metadata": {},
   "outputs": [
    {
     "name": "stdout",
     "output_type": "stream",
     "text": [
      "ellapsed time of selection sort is 27.88514757156372\n"
     ]
    }
   ],
   "source": [
    "start = time.time()\n",
    "insertion_sort(C)\n",
    "print(f'ellapsed time of selection sort is {time.time() - start}')"
   ]
  },
  {
   "cell_type": "code",
   "execution_count": 30,
   "metadata": {},
   "outputs": [],
   "source": [
    "C = PositionalList()\n",
    "for e in L:\n",
    "    C.add_last(e)"
   ]
  },
  {
   "cell_type": "code",
   "execution_count": 31,
   "metadata": {},
   "outputs": [
    {
     "name": "stdout",
     "output_type": "stream",
     "text": [
      "ellapsed time of selection sort is 0.2636992931365967\n"
     ]
    }
   ],
   "source": [
    "start = time.time()\n",
    "heap_sort(C)\n",
    "print(f'ellapsed time of selection sort is {time.time() - start}')"
   ]
  }
 ],
 "metadata": {
  "kernelspec": {
   "display_name": "Python 3",
   "language": "python",
   "name": "python3"
  },
  "language_info": {
   "codemirror_mode": {
    "name": "ipython",
    "version": 3
   },
   "file_extension": ".py",
   "mimetype": "text/x-python",
   "name": "python",
   "nbconvert_exporter": "python",
   "pygments_lexer": "ipython3",
   "version": "3.7.1"
  }
 },
 "nbformat": 4,
 "nbformat_minor": 2
}
