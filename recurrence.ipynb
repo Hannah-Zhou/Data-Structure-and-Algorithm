{
 "cells": [
  {
   "cell_type": "markdown",
   "metadata": {},
   "source": [
    "# 阶乘函数"
   ]
  },
  {
   "cell_type": "markdown",
   "metadata": {},
   "source": [
    "$$\n",
    "n! = \\left\\{\n",
    "\\begin{array}{cl}\n",
    "1 & n = 0, \\\\\n",
    "n\\cdot (n-1)!, & n > 0.\n",
    "\\end{array}\n",
    "\\right.\n",
    "$$"
   ]
  },
  {
   "cell_type": "code",
   "execution_count": 3,
   "metadata": {},
   "outputs": [],
   "source": [
    "def factorial(n):\n",
    "    \"\"\"compute the factorial\n",
    "    \n",
    "    Params\n",
    "    ======\n",
    "    n (int)\n",
    "    \n",
    "    Returns\n",
    "    =======\n",
    "    int\n",
    "    \"\"\"\n",
    "    if not isinstance(n, int) or n < 0:\n",
    "        raise ValueError('n should be a nonnegative integer')\n",
    "    if n == 0:\n",
    "        return 1\n",
    "    else:\n",
    "        return n * factorial(n-1)"
   ]
  },
  {
   "cell_type": "code",
   "execution_count": 5,
   "metadata": {},
   "outputs": [
    {
     "name": "stdout",
     "output_type": "stream",
     "text": [
      "120\n"
     ]
    }
   ],
   "source": [
    "print(factorial(5))"
   ]
  },
  {
   "cell_type": "markdown",
   "metadata": {},
   "source": [
    "# 英国尺子"
   ]
  },
  {
   "cell_type": "code",
   "execution_count": 16,
   "metadata": {},
   "outputs": [],
   "source": [
    "def draw_line(tick_length, tick_label=None):\n",
    "    line = '-' * tick_length\n",
    "    if tick_label is not None:\n",
    "        line += f' {tick_label}'\n",
    "    print(line)"
   ]
  },
  {
   "cell_type": "code",
   "execution_count": 18,
   "metadata": {},
   "outputs": [
    {
     "name": "stdout",
     "output_type": "stream",
     "text": [
      "----- 10\n"
     ]
    }
   ],
   "source": [
    "draw_line(5, 10)"
   ]
  },
  {
   "cell_type": "code",
   "execution_count": 21,
   "metadata": {},
   "outputs": [],
   "source": [
    "def draw_interval(center_length):\n",
    "    if center_length > 0:\n",
    "        draw_interval(center_length-1)\n",
    "        draw_line(center_length)\n",
    "        draw_interval(center_length-1)"
   ]
  },
  {
   "cell_type": "code",
   "execution_count": 25,
   "metadata": {},
   "outputs": [
    {
     "name": "stdout",
     "output_type": "stream",
     "text": [
      "-\n",
      "--\n",
      "-\n",
      "---\n",
      "-\n",
      "--\n",
      "-\n"
     ]
    }
   ],
   "source": [
    "draw_interval(3)"
   ]
  },
  {
   "cell_type": "code",
   "execution_count": 26,
   "metadata": {},
   "outputs": [],
   "source": [
    "def draw_ruler(num_inches, major_length):\n",
    "    draw_line(major_length, 0)\n",
    "    for i in range(1, num_inches+1):\n",
    "        draw_interval(major_length-1)\n",
    "        draw_line(major_length, i)"
   ]
  },
  {
   "cell_type": "code",
   "execution_count": 29,
   "metadata": {},
   "outputs": [
    {
     "name": "stdout",
     "output_type": "stream",
     "text": [
      "--- 0\n",
      "-\n",
      "--\n",
      "-\n",
      "--- 1\n",
      "-\n",
      "--\n",
      "-\n",
      "--- 2\n"
     ]
    }
   ],
   "source": [
    "draw_ruler(2, 3)"
   ]
  },
  {
   "cell_type": "markdown",
   "metadata": {},
   "source": [
    "# 折半查找"
   ]
  },
  {
   "cell_type": "code",
   "execution_count": 58,
   "metadata": {},
   "outputs": [],
   "source": [
    "def binary_search_recur(data, target, low, high):\n",
    "    if low > high:\n",
    "        return False\n",
    "    else:\n",
    "        mid = (low + high) // 2\n",
    "        if target == data[mid]:\n",
    "            return True\n",
    "        elif target < data[mid]:\n",
    "            return binary_search_recur(data, target, low, mid-1)\n",
    "        else:\n",
    "            return binary_search_recur(data, target, mid+1, high)"
   ]
  },
  {
   "cell_type": "code",
   "execution_count": 59,
   "metadata": {},
   "outputs": [],
   "source": [
    "def binary_search(data, target):\n",
    "    return binary_search_recur(data, target, 0, len(data)-1)"
   ]
  },
  {
   "cell_type": "code",
   "execution_count": 60,
   "metadata": {},
   "outputs": [
    {
     "name": "stdout",
     "output_type": "stream",
     "text": [
      "17 8\n",
      "17 15\n",
      "17 17\n",
      "17 is in the data\n"
     ]
    }
   ],
   "source": [
    "data = [1, 3, 8, 12, 15, 17]\n",
    "target = 17\n",
    "if binary_search(data, target):\n",
    "    print(f'{target} is in the data')\n",
    "else:\n",
    "    print(f'{target} is not in the data')"
   ]
  },
  {
   "cell_type": "markdown",
   "metadata": {},
   "source": [
    "# 文件系统"
   ]
  },
  {
   "cell_type": "code",
   "execution_count": 1,
   "metadata": {},
   "outputs": [],
   "source": [
    "import os"
   ]
  },
  {
   "cell_type": "code",
   "execution_count": 2,
   "metadata": {},
   "outputs": [
    {
     "data": {
      "text/plain": [
       "['.ipynb_checkpoints',\n",
       " 'beamer02.pdf',\n",
       " 'beamer03.pdf',\n",
       " 'beamer04.pdf',\n",
       " 'PythonBasicForStudent.ipynb',\n",
       " 'PythonOOP.ipynb',\n",
       " 'PythonOOP4Student.ipynb',\n",
       " 'PythonPrimer4Student.ipynb',\n",
       " 'recurrence-checkpoint.ipynb',\n",
       " 'recurrence.ipynb',\n",
       " 'Untitled.ipynb']"
      ]
     },
     "execution_count": 2,
     "metadata": {},
     "output_type": "execute_result"
    }
   ],
   "source": [
    "os.listdir('.')"
   ]
  },
  {
   "cell_type": "code",
   "execution_count": 6,
   "metadata": {},
   "outputs": [
    {
     "data": {
      "text/plain": [
       "7009"
      ]
     },
     "execution_count": 6,
     "metadata": {},
     "output_type": "execute_result"
    }
   ],
   "source": [
    "os.path.getsize('./recurrence.ipynb')"
   ]
  },
  {
   "cell_type": "code",
   "execution_count": 7,
   "metadata": {},
   "outputs": [
    {
     "data": {
      "text/plain": [
       "'.\\\\recurrence.ipynb'"
      ]
     },
     "execution_count": 7,
     "metadata": {},
     "output_type": "execute_result"
    }
   ],
   "source": [
    "os.path.join('.', 'recurrence.ipynb')"
   ]
  },
  {
   "cell_type": "code",
   "execution_count": 9,
   "metadata": {},
   "outputs": [
    {
     "data": {
      "text/plain": [
       "False"
      ]
     },
     "execution_count": 9,
     "metadata": {},
     "output_type": "execute_result"
    }
   ],
   "source": [
    "os.path.isdir('recurrence.ipynb')"
   ]
  },
  {
   "cell_type": "code",
   "execution_count": 23,
   "metadata": {},
   "outputs": [],
   "source": [
    "def disk_usage(path):\n",
    "    total = os.path.getsize(path)\n",
    "    if os.path.isdir(path):\n",
    "        for filename in os.listdir(path):\n",
    "            childpath = os.path.join(path, filename)\n",
    "            total += disk_usage(childpath)\n",
    "    print(f'{total:7d} {path}')\n",
    "    return total"
   ]
  },
  {
   "cell_type": "code",
   "execution_count": 24,
   "metadata": {},
   "outputs": [
    {
     "name": "stdout",
     "output_type": "stream",
     "text": [
      "   6284 .\\.ipynb_checkpoints\\PythonBasicForStudent-checkpoint.ipynb\n",
      "  14151 .\\.ipynb_checkpoints\\PythonOOP-checkpoint.ipynb\n",
      "  10380 .\\.ipynb_checkpoints\\PythonOOP4Student-checkpoint.ipynb\n",
      "   6251 .\\.ipynb_checkpoints\\recurrence-checkpoint.ipynb\n",
      "     72 .\\.ipynb_checkpoints\\Untitled-checkpoint.ipynb\n",
      "  41234 .\\.ipynb_checkpoints\n",
      "1202819 .\\beamer02.pdf\n",
      " 376169 .\\beamer03.pdf\n",
      " 479415 .\\beamer04.pdf\n",
      "   6284 .\\PythonBasicForStudent.ipynb\n",
      "  11611 .\\PythonOOP.ipynb\n",
      "  10379 .\\PythonOOP4Student.ipynb\n",
      "   5075 .\\PythonPrimer4Student.ipynb\n",
      "   7009 .\\recurrence-checkpoint.ipynb\n",
      "   8520 .\\recurrence.ipynb\n",
      "     72 .\\Untitled.ipynb\n",
      "2152683 .\n",
      "2.0529584884643555\n"
     ]
    }
   ],
   "source": [
    "print(disk_usage('.') / 1024**2)"
   ]
  },
  {
   "cell_type": "code",
   "execution_count": null,
   "metadata": {},
   "outputs": [],
   "source": []
  },
  {
   "cell_type": "code",
   "execution_count": 38,
   "metadata": {},
   "outputs": [],
   "source": [
    "def reverse_recur(S, start, stop):\n",
    "    if start < stop:\n",
    "        S[start], S[stop] = S[stop], S[start]\n",
    "        reverse_recur(S, start+1, stop-1)"
   ]
  },
  {
   "cell_type": "code",
   "execution_count": 39,
   "metadata": {},
   "outputs": [],
   "source": [
    "def reverse(S):\n",
    "    reverse_recur(S, 0, len(S)-1)"
   ]
  },
  {
   "cell_type": "code",
   "execution_count": 40,
   "metadata": {},
   "outputs": [
    {
     "name": "stdout",
     "output_type": "stream",
     "text": [
      "[4, 3, 2, 1]\n"
     ]
    }
   ],
   "source": [
    "S = [1, 2, 3, 4]\n",
    "reverse(S)\n",
    "print(S)"
   ]
  },
  {
   "cell_type": "markdown",
   "metadata": {},
   "source": [
    "# 计算$x^n$"
   ]
  },
  {
   "cell_type": "code",
   "execution_count": 3,
   "metadata": {},
   "outputs": [],
   "source": [
    "def power_slow(x, n):\n",
    "    if not isinstance(n, int):\n",
    "        raise ValueError('n must be an integer')\n",
    "    if n == 0:\n",
    "        return 1\n",
    "    return x * power_slow(x, n-1)"
   ]
  },
  {
   "cell_type": "code",
   "execution_count": 6,
   "metadata": {},
   "outputs": [
    {
     "name": "stdout",
     "output_type": "stream",
     "text": [
      "15.625\n"
     ]
    }
   ],
   "source": [
    "print(power_slow(2.5, 3))"
   ]
  },
  {
   "cell_type": "code",
   "execution_count": 7,
   "metadata": {},
   "outputs": [],
   "source": [
    "def power_fast(x, n):\n",
    "    if not isinstance(n, int):\n",
    "        raise ValueError('n must be an integer')\n",
    "    if n == 0:\n",
    "        return 1\n",
    "    temp = power_fast(x, n//2)\n",
    "    result = temp ** 2\n",
    "    if n % 2:\n",
    "        result *= x\n",
    "    return result"
   ]
  },
  {
   "cell_type": "code",
   "execution_count": 9,
   "metadata": {},
   "outputs": [
    {
     "name": "stdout",
     "output_type": "stream",
     "text": [
      "15.625\n"
     ]
    }
   ],
   "source": [
    "print(power_fast(2.5, 3))"
   ]
  },
  {
   "cell_type": "markdown",
   "metadata": {},
   "source": [
    "# 利用二元递归求序列之和"
   ]
  },
  {
   "cell_type": "code",
   "execution_count": 13,
   "metadata": {},
   "outputs": [],
   "source": [
    "def binary_sum_recur(S, start, stop):\n",
    "    \"\"\"compute the sum of the numbers in a slice S[start:stop]\n",
    "    \"\"\"\n",
    "    if start == stop:\n",
    "        return 0\n",
    "    if start == stop - 1:\n",
    "        return S[start]\n",
    "    mid = (start + stop) // 2\n",
    "    return binary_sum_recur(S, start, mid) \\\n",
    "         + binary_sum_recur(S, mid, stop)"
   ]
  },
  {
   "cell_type": "code",
   "execution_count": 14,
   "metadata": {},
   "outputs": [],
   "source": [
    "def binary_sum(S):\n",
    "    return binary_sum_recur(S, 0, len(S))"
   ]
  },
  {
   "cell_type": "code",
   "execution_count": 15,
   "metadata": {},
   "outputs": [
    {
     "name": "stdout",
     "output_type": "stream",
     "text": [
      "sum of [1, 2, 3, 4] is 10\n"
     ]
    }
   ],
   "source": [
    "S = [1, 2, 3, 4]\n",
    "print(f'sum of {S} is {binary_sum(S)}')"
   ]
  },
  {
   "cell_type": "code",
   "execution_count": 5,
   "metadata": {},
   "outputs": [],
   "source": [
    "def binary_sum_recur1(S, start, stop):\n",
    "    \"\"\"compute the sum of the numbers in a slice S[start:stop+1]\n",
    "    \n",
    "    Params\n",
    "    ======\n",
    "    S: (list, tuple)\n",
    "        a sequence\n",
    "    start: (int)\n",
    "        index of the first element in the slice\n",
    "    stop:  (int)\n",
    "        index of the last element in the slice\n",
    "    \"\"\"\n",
    "    if start > stop:\n",
    "        return 0\n",
    "    if start == stop:\n",
    "        return S[start]\n",
    "    mid = (start + stop) // 2\n",
    "    return binary_sum_recur1(S, start, mid) \\\n",
    "         + binary_sum_recur1(S, mid+1, stop) "
   ]
  },
  {
   "cell_type": "code",
   "execution_count": 6,
   "metadata": {},
   "outputs": [],
   "source": [
    "def binary_sum1(S):\n",
    "    return binary_sum_recur1(S, 0, len(S)-1)"
   ]
  },
  {
   "cell_type": "code",
   "execution_count": 7,
   "metadata": {
    "scrolled": true
   },
   "outputs": [
    {
     "name": "stdout",
     "output_type": "stream",
     "text": [
      "sum of [1, 2, 3, 4] is 10\n"
     ]
    }
   ],
   "source": [
    "S = [1, 2, 3, 4]\n",
    "print(f'sum of {S} is {binary_sum1(S)}')"
   ]
  },
  {
   "cell_type": "markdown",
   "metadata": {},
   "source": [
    "# 用尾递归实现阶乘"
   ]
  },
  {
   "cell_type": "code",
   "execution_count": 8,
   "metadata": {},
   "outputs": [],
   "source": [
    "def factorial_tail(n, a):\n",
    "    if n == 0 or n == 1:\n",
    "        return a\n",
    "    return factorial_tail(n-1, n*a)"
   ]
  },
  {
   "cell_type": "code",
   "execution_count": 9,
   "metadata": {},
   "outputs": [],
   "source": [
    "def factorial(n):\n",
    "    return factorial_tail(n, 1)"
   ]
  },
  {
   "cell_type": "code",
   "execution_count": 10,
   "metadata": {},
   "outputs": [
    {
     "name": "stdout",
     "output_type": "stream",
     "text": [
      "24\n"
     ]
    }
   ],
   "source": [
    "print(factorial(4))"
   ]
  },
  {
   "cell_type": "markdown",
   "metadata": {},
   "source": [
    "# 用循环实现折半查找"
   ]
  },
  {
   "cell_type": "code",
   "execution_count": 18,
   "metadata": {},
   "outputs": [],
   "source": [
    "def binary_search_loop(data, target):\n",
    "    low = 0\n",
    "    high = len(data) - 1\n",
    "    while low <= high:\n",
    "        mid = (low + high) // 2\n",
    "        if data[mid] == target:\n",
    "            return True\n",
    "        if target < data[mid]:\n",
    "            high = mid-1\n",
    "        else:\n",
    "            low = mid + 1\n",
    "    return False        "
   ]
  },
  {
   "cell_type": "code",
   "execution_count": 19,
   "metadata": {},
   "outputs": [],
   "source": [
    "def binary_search_recur(data, target, low, high):\n",
    "    if low > high:\n",
    "        return False\n",
    "    else:\n",
    "        mid = (low + high) // 2\n",
    "        if target == data[mid]:\n",
    "            return True\n",
    "        elif target < data[mid]:\n",
    "            return binary_search_recur(data, target, low, mid-1)\n",
    "        else:\n",
    "            return binary_search_recur(data, target, mid+1, high)"
   ]
  },
  {
   "cell_type": "code",
   "execution_count": 20,
   "metadata": {},
   "outputs": [],
   "source": [
    "def binary_search(data, target, method='loop'):\n",
    "    if method == 'loop':\n",
    "        return binary_search_loop(data, target)\n",
    "    elif method == 'recur':\n",
    "        return binary_search_recur(data, target, 0, len(data)-1)\n",
    "    else:\n",
    "        raise ValueError('Invalid method')"
   ]
  },
  {
   "cell_type": "code",
   "execution_count": 23,
   "metadata": {},
   "outputs": [
    {
     "name": "stdout",
     "output_type": "stream",
     "text": [
      "7 is in [1, 3, 5, 7, 9, 12]\n"
     ]
    }
   ],
   "source": [
    "data = [1, 3, 5, 7, 9, 12]\n",
    "target = 7\n",
    "if binary_search(data, target, method='recur'):\n",
    "    print(f'{target} is in {data}')\n",
    "else:\n",
    "    print(f'{target} is not in {data}')"
   ]
  }
 ],
 "metadata": {
  "kernelspec": {
   "display_name": "Python 3",
   "language": "python",
   "name": "python3"
  },
  "language_info": {
   "codemirror_mode": {
    "name": "ipython",
    "version": 3
   },
   "file_extension": ".py",
   "mimetype": "text/x-python",
   "name": "python",
   "nbconvert_exporter": "python",
   "pygments_lexer": "ipython3",
   "version": "3.7.1"
  }
 },
 "nbformat": 4,
 "nbformat_minor": 2
}
