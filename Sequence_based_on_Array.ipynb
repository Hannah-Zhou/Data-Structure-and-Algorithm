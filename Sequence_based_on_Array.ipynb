{
 "cells": [
  {
   "cell_type": "markdown",
   "metadata": {},
   "source": [
    "# 基于数组的序列"
   ]
  },
  {
   "cell_type": "markdown",
   "metadata": {},
   "source": [
    "* 在`DynamicArray`类中，改进`__getitem__`方法以支持对负索引的使用。"
   ]
  },
  {
   "cell_type": "code",
   "execution_count": 1,
   "metadata": {},
   "outputs": [],
   "source": [
    "from ctypes import py_object"
   ]
  },
  {
   "cell_type": "code",
   "execution_count": 2,
   "metadata": {},
   "outputs": [],
   "source": [
    "class DynamicArray(object):\n",
    "    \"\"\"DynamicArray writen by Alessio-yuan\"\"\"\n",
    "    def __init__(self):\n",
    "        self.n = 0\n",
    "        self.capacity = 1\n",
    "        self.A = self.make_array(self.capacity)\n",
    "        \n",
    "    def __len__(self):   \n",
    "        return self.n     \n",
    "    \n",
    "    def make_array(self,c):\n",
    "        return (c * py_object)()\n",
    "    \n",
    "    def __getitem__(self,k): \n",
    "        if not -self.n <= k < self.n:  \n",
    "            raise IndexError('Invalid index')\n",
    "        if -self.n <= k < 0:\n",
    "            k += self.n\n",
    "        return self.A[k]\n",
    "\n",
    "    def __setitem__(self,k,val):  \n",
    "        if not -self.n <= k < self.n:\n",
    "            raise IndexError('Invalid index')\n",
    "        if -self.n <= k < 0:\n",
    "            k += self.n\n",
    "        self.A[k] = val\n",
    "        \n",
    "    def resize(self,c):\n",
    "        B = self.make_array(c)  \n",
    "        for k in range(self.n):\n",
    "            B[k] = self.A[k]\n",
    "        self.A = B\n",
    "        self.capacity = c\n",
    "    \n",
    "    def append(self,obj):\n",
    "        if self.n == self.capacity:\n",
    "            self.resize(2 * self.capacity)\n",
    "        self.A[self.n] = obj\n",
    "        self.n += 1\n",
    " \n",
    "    def insert(self,k,obj):\n",
    "        if self.n == self. capacity :\n",
    "            self.resize (2 * self.capacity )\n",
    "        for j in range(self.n , k, -1):\n",
    "            B = self.A[j-1]\n",
    "            self.A[j]=B\n",
    "        self.A[k] = obj\n",
    "        self.n += 1\n",
    "    \n",
    "    def pop(self,k=None):\n",
    "        if k is None:   #默认在尾端删除\n",
    "            val = self.A[self.n-1]\n",
    "            self.A[self.n-1] = None\n",
    "            self.n -= 1\n",
    "            if self.n < self.capacity/4:\n",
    "                self.capacity = self.capacity/2\n",
    "            return val\n",
    "        else:      #在k处删除\n",
    "            if not -self.n <= k < self.n:\n",
    "                raise IndexError('Invalid index')\n",
    "            val = self.A[k]\n",
    "            for j in range(k,self.n-1):\n",
    "                self.A[j] = self.A[j+1]\n",
    "            self.A[self.n-1] = None\n",
    "            self.n -= 1\n",
    "            if self.n < self.capacity/4:\n",
    "                self.capacity = self.capacity/2\n",
    "            return val\n",
    "    \n",
    "    def remove(self,target):\n",
    "        for k in range(self.n):\n",
    "            if self.A[k] == target:\n",
    "                self.pop(k)\n",
    "                return\n",
    "    \n",
    "    def remove_all(self, target):    #删除all\n",
    "        for k in range(self.n):\n",
    "            if self.A[k] == target:\n",
    "                self.pop(k)\n",
    "                \n",
    "    def __repr__ (self):\n",
    "        return f'{self.A[: self.n]}' "
   ]
  },
  {
   "cell_type": "code",
   "execution_count": 3,
   "metadata": {},
   "outputs": [
    {
     "name": "stdout",
     "output_type": "stream",
     "text": [
      "['周睿涵', 'aka数院小苦瓜', '不是快乐打工仔', '但是还是要坚强勇敢地喊出', '早安~打工人！！！']\n",
      "早安~打工人！！！\n"
     ]
    }
   ],
   "source": [
    "#test\n",
    "a = DynamicArray ()\n",
    "a. append ('周睿涵')\n",
    "a. append ('但是还是要坚强勇敢地喊出')\n",
    "a. insert (1, 'aka数院小苦瓜')\n",
    "a. insert (2,'不是快乐打工仔')\n",
    "a. append ('早安~打工人！！！')\n",
    "print(a)\n",
    "print(a[-1])\n",
    "\n",
    "a.remove('5')"
   ]
  },
  {
   "cell_type": "markdown",
   "metadata": {},
   "source": [
    "* 在`DynamicArray`类中，我们已经实现了`insert`方法，其功能是将某元素插入到指定索引处。在调整底层数组尺寸的情况下，会将所有元素从旧数组复制到新数组，然后需要移动大量元素为欲插入元素腾出空间。改进`insert`方法，以便在调整底层数组的情况下，元素直接被移到合适的位置，以避免了随后的移位操作。"
   ]
  },
  {
   "cell_type": "markdown",
   "metadata": {},
   "source": [
    "如上类中方法"
   ]
  },
  {
   "cell_type": "markdown",
   "metadata": {},
   "source": [
    "* 在`DynamicArray`类中，我们已经实现`pop`方法，其功能是删除数组中的最后一个元素或删除指定索引处的元素。改进`pop`方法，添加一个功能：当底层数组中的元素数低于容量的1/4时，将容量缩半。"
   ]
  },
  {
   "cell_type": "markdown",
   "metadata": {},
   "source": [
    "如上类中方法"
   ]
  },
  {
   "cell_type": "markdown",
   "metadata": {},
   "source": [
    "* 实现`DynamicArray`类中的`remove`方法，其功能是删除数组中的指定元素，若元素出现多次，仅删除第一个。另外，当底层数组中的元素数低于容量的1/4时，将容量缩半。"
   ]
  },
  {
   "cell_type": "markdown",
   "metadata": {},
   "source": [
    "如上类中方法"
   ]
  },
  {
   "cell_type": "markdown",
   "metadata": {},
   "source": [
    "* 在`DynamicArray`类中添加一个`remove_all(data, value)`方法，其功能是删除数组`data`中所有出现的元素`value`，使得其最坏时间复杂度对长度为$n$的数组为$O(n)$。"
   ]
  },
  {
   "cell_type": "markdown",
   "metadata": {},
   "source": [
    "* 设`A`是一个长度为$n\\ge 2$的数组，其中包含从$1$到$n−1$的整数，其中正好有一个元素重复。设计一个快速算法来寻找该重复整数。"
   ]
  },
  {
   "cell_type": "code",
   "execution_count": 4,
   "metadata": {},
   "outputs": [],
   "source": [
    "def check_fast(data):\n",
    "    temp=data.sort()\n",
    "    num=set(temp)\n",
    "    for i in range(len(num)):\n",
    "        if num[i]!=temp[i]:\n",
    "            return temp[i]"
   ]
  },
  {
   "cell_type": "markdown",
   "metadata": {},
   "source": [
    "* `random`模块支持的`shuffle`方法获取一个Python列表并对其进行重新排列，每个可能的排序都是相同的。自定义该函数，可使用`random`模块的`randrange(n)`，它返回一个介于`0`和`n-1`之间的随机数。"
   ]
  },
  {
   "cell_type": "code",
   "execution_count": 5,
   "metadata": {},
   "outputs": [],
   "source": [
    "from random import randrange"
   ]
  },
  {
   "cell_type": "code",
   "execution_count": 6,
   "metadata": {},
   "outputs": [
    {
     "name": "stdout",
     "output_type": "stream",
     "text": [
      "0\n"
     ]
    }
   ],
   "source": [
    "print(randrange(5))"
   ]
  },
  {
   "cell_type": "markdown",
   "metadata": {},
   "source": []
  },
  {
   "cell_type": "markdown",
   "metadata": {},
   "source": [
    "* 重写凯撒密码(CaesarCipher)类，使其能处理包含大小写字母的英文明文。"
   ]
  },
  {
   "cell_type": "code",
   "execution_count": 7,
   "metadata": {},
   "outputs": [],
   "source": [
    "class CaesarCipher(): \n",
    "    def __init__(self, shift): \n",
    "        encoder = [None] * 26 \n",
    "        decoder = [None] * 26 \n",
    "        for k in range(26): \n",
    "            encoder[k] = chr((k + shift) % 26 + ord('A')) \n",
    "            decoder[k] = chr((k - shift) % 26 + ord('A')) \n",
    "            self._forward = ''.join(encoder) \n",
    "            self._backward = ''.join(decoder) \n",
    "    \n",
    "    def encrypt(text,s): \n",
    "        result = \"\"\n",
    "        for i in range(len(text)):\n",
    "            char = text[i]\n",
    "            if (char.isupper()):\n",
    "                result += chr((ord(char) + s - 65) % 26 + 65)\n",
    "            else:\n",
    "                result += chr((ord(char) + s - 97) % 26 + 97)\n",
    "        return result\n",
    "\n",
    "    def decrypt(self, secret): \n",
    "        return self._transform(secret, self._backward)\n",
    "    \n",
    "    def _transform(self, original, code):\n",
    "        msg = list(original) \n",
    "        for k in range(len(msg)): \n",
    "            if msg[k].isupper(): \n",
    "                j = ord(msg[k]) - ord('A') \n",
    "                msg[k] = code[j] \n",
    "        return ''.join(msg) \n",
    "    "
   ]
  }
 ],
 "metadata": {
  "kernelspec": {
   "display_name": "Python 3",
   "language": "python",
   "name": "python3"
  },
  "language_info": {
   "codemirror_mode": {
    "name": "ipython",
    "version": 3
   },
   "file_extension": ".py",
   "mimetype": "text/x-python",
   "name": "python",
   "nbconvert_exporter": "python",
   "pygments_lexer": "ipython3",
   "version": "3.7.0"
  }
 },
 "nbformat": 4,
 "nbformat_minor": 2
}
